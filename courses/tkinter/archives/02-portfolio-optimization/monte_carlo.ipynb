{
 "cells": [
  {
   "cell_type": "code",
   "execution_count": 2,
   "metadata": {},
   "outputs": [],
   "source": [
    "#Import relevant libraries\n",
    "import pandas as pd\n",
    "import numpy as np\n",
    "import pandas_datareader.data as web\n",
    "import matplotlib.pyplot as plt"
   ]
  },
  {
   "cell_type": "code",
   "execution_count": 3,
   "metadata": {},
   "outputs": [],
   "source": [
    "#Fetch data from yahoo and save under DataFrame named 'data'\n",
    "stock = ['BAC', 'GS', 'JPM', 'MS']\n",
    "data = web.DataReader(stock,data_source=\"yahoo\",start='12/01/2017',end='12/31/2017')['Adj Close']"
   ]
  },
  {
   "cell_type": "code",
   "execution_count": 4,
   "metadata": {},
   "outputs": [
    {
     "name": "stdout",
     "output_type": "stream",
     "text": [
      "Symbols       BAC      GS     JPM     MS\n",
      "Date                                    \n",
      "2017-12-29  28.50  247.61  101.38  50.26\n",
      "2017-12-28  28.77  249.30  102.19  50.43\n",
      "2017-12-27  28.70  248.77  101.65  50.36\n",
      "2017-12-26  28.75  250.49  101.46  50.26\n",
      "2017-12-22  28.84  251.70  101.86  50.50\n"
     ]
    }
   ],
   "source": [
    "#Arrange the data in ascending order\n",
    "data=data.iloc[::-1]\n",
    "print(data.round(2).head())"
   ]
  },
  {
   "cell_type": "code",
   "execution_count": 6,
   "metadata": {},
   "outputs": [
    {
     "name": "stdout",
     "output_type": "stream",
     "text": [
      "Symbols      BAC    GS   JPM    MS\n",
      "Date                              \n",
      "2017-12-29   NaN   NaN   NaN   NaN\n",
      "2017-12-28  0.95  0.68  0.79  0.34\n",
      "2017-12-27 -0.23 -0.21 -0.53 -0.15\n",
      "2017-12-26  0.17  0.69 -0.19 -0.19\n",
      "2017-12-22  0.34  0.49  0.40  0.48\n",
      "2017-12-21 -0.20  0.79  0.35  0.30\n",
      "2017-12-20 -1.14 -2.23 -1.57 -0.70\n",
      "2017-12-19 -0.10  0.51  0.35  0.80\n",
      "2017-12-18  0.10  1.38  0.42  0.59\n",
      "2017-12-15 -1.49 -1.10 -0.77 -0.26\n",
      "2017-12-14 -1.07 -0.66 -1.39 -0.87\n",
      "2017-12-13  0.38  0.03  0.81  1.03\n",
      "2017-12-12  1.66  0.83  1.27  1.26\n",
      "2017-12-11 -1.30 -2.93 -1.15 -2.01\n",
      "2017-12-08  0.38  0.09  0.29  0.23\n",
      "2017-12-07 -0.93 -0.71 -1.24 -1.02\n",
      "2017-12-06 -0.49 -1.05  0.30 -1.26\n",
      "2017-12-05  1.01  0.97  0.75  0.62\n",
      "2017-12-04  0.45  0.93  1.16  1.29\n",
      "2017-12-01 -3.30 -0.68 -2.02 -1.39\n"
     ]
    }
   ],
   "source": [
    "#Compute stock returns and print the returns in percentage format\n",
    "stock_ret = data.pct_change()\n",
    "print(stock_ret.round(4)*100)"
   ]
  },
  {
   "cell_type": "code",
   "execution_count": 7,
   "metadata": {},
   "outputs": [
    {
     "name": "stdout",
     "output_type": "stream",
     "text": [
      "Symbols\n",
      "BAC   -0.002531\n",
      "GS    -0.001151\n",
      "JPM   -0.001022\n",
      "MS    -0.000482\n",
      "dtype: float64\n",
      "Symbols       BAC        GS       JPM        MS\n",
      "Symbols                                        \n",
      "BAC      0.000125  0.000085  0.000099  0.000082\n",
      "GS       0.000085  0.000131  0.000084  0.000088\n",
      "JPM      0.000099  0.000084  0.000098  0.000078\n",
      "MS       0.000082  0.000088  0.000078  0.000089\n"
     ]
    }
   ],
   "source": [
    "#Calculate mean returns and covariances of all four the stocks\n",
    "mean_returns = stock_ret.mean()\n",
    "cov_matrix = stock_ret.cov()\n",
    "print (mean_returns)\n",
    "print (cov_matrix)"
   ]
  },
  {
   "cell_type": "code",
   "execution_count": 8,
   "metadata": {},
   "outputs": [],
   "source": [
    "#Set the number of iterations to 10000 and define an array to hold the simulation results; initially set to all zeros\n",
    "num_iterations = 10000\n",
    "simulation_res = np.zeros((4+len(stock)-1,num_iterations))"
   ]
  },
  {
   "cell_type": "code",
   "execution_count": 11,
   "metadata": {},
   "outputs": [],
   "source": [
    "for i in range(num_iterations):\n",
    "#Select random weights and normalize to set the sum to 1\n",
    "        weights = np.array(np.random.random(4))\n",
    "        weights /= np.sum(weights)\n",
    "#Calculate the return and standard deviation for every step\n",
    "        portfolio_return = np.sum(mean_returns * weights)\n",
    "        portfolio_std_dev = np.sqrt(np.dot(weights.T,np.dot(cov_matrix, weights)))\n",
    "#Store all the results in a defined array\n",
    "        simulation_res[0,i] = portfolio_return\n",
    "        simulation_res[1,i] = portfolio_std_dev\n",
    "#Calculate Sharpe ratio and store it in the array\n",
    "        simulation_res[2,i] = simulation_res[0,i] / simulation_res[1,i]\n",
    "#Save the weights in the array\n",
    "        for j in range(len(weights)):\n",
    "                simulation_res[j+3,i] = weights[j]"
   ]
  },
  {
   "cell_type": "code",
   "execution_count": 13,
   "metadata": {},
   "outputs": [
    {
     "name": "stdout",
     "output_type": "stream",
     "text": [
      "        ret     stdev    sharpe       BAC        GS       JPM        MS\n",
      "0 -0.001334  0.009609 -0.138825  0.308347  0.029084  0.371879  0.290689\n",
      "1 -0.001290  0.009597 -0.134372  0.240193  0.119885  0.435791  0.204131\n",
      "2 -0.001623  0.009994 -0.162400  0.395740  0.398724  0.117161  0.088375\n",
      "3 -0.001456  0.009682 -0.150354  0.360899  0.139078  0.261410  0.238613\n",
      "4 -0.001846  0.010119 -0.182447  0.596274  0.062106  0.186455  0.155164\n",
      "           ret     stdev    sharpe       BAC        GS       JPM        MS\n",
      "9995 -0.001375  0.009696 -0.141846  0.262452  0.253454  0.344481  0.139613\n",
      "9996 -0.001206  0.009482 -0.127151  0.274838  0.139189  0.124964  0.461008\n",
      "9997 -0.001322  0.009613 -0.137496  0.265967  0.237186  0.252222  0.244626\n",
      "9998 -0.001103  0.009447 -0.116735  0.152537  0.162948  0.369280  0.315235\n",
      "9999 -0.001375  0.009638 -0.142703  0.319779  0.233906  0.151366  0.294948\n"
     ]
    }
   ],
   "source": [
    "sim_frame = pd.DataFrame(simulation_res.T,columns=['ret','stdev','sharpe',stock[0],stock[1],stock[2],stock[3]])\n",
    "print(sim_frame.head (5))\n",
    "print(sim_frame.tail (5))"
   ]
  },
  {
   "cell_type": "code",
   "execution_count": 14,
   "metadata": {},
   "outputs": [],
   "source": [
    "#Spot the position of the portfolio with highest Sharpe Ratio\n",
    "max_sharpe = sim_frame.iloc[sim_frame['sharpe'].idxmax()]"
   ]
  },
  {
   "cell_type": "code",
   "execution_count": 15,
   "metadata": {},
   "outputs": [
    {
     "name": "stdout",
     "output_type": "stream",
     "text": [
      "The portfolio for max Sharpe Ratio:\n",
      " ret      -0.000551\n",
      "stdev     0.009431\n",
      "sharpe   -0.058451\n",
      "BAC       0.001111\n",
      "GS        0.084640\n",
      "JPM       0.019683\n",
      "MS        0.894565\n",
      "Name: 7648, dtype: float64\n",
      "The portfolio for min risk:\n",
      " ret      -0.000707\n",
      "stdev     0.009241\n",
      "sharpe   -0.076484\n",
      "BAC       0.000665\n",
      "GS        0.017033\n",
      "JPM       0.393096\n",
      "MS        0.589205\n",
      "Name: 6919, dtype: float64\n"
     ]
    }
   ],
   "source": [
    "#Spot the position of the portfolio with minimum Standard Deviation\n",
    "min_std = sim_frame.iloc[sim_frame['stdev'].idxmin()]\n",
    "print(\"The portfolio for max Sharpe Ratio:\\n\", max_sharpe)\n",
    "print(\"The portfolio for min risk:\\n\", min_std) "
   ]
  },
  {
   "cell_type": "code",
   "execution_count": 42,
   "metadata": {},
   "outputs": [
    {
     "data": {
      "image/png": "[encoded data removed]",
      "text/plain": [
       "<Figure size 1440x576 with 1 Axes>"
      ]
     },
     "metadata": {
      "needs_background": "light"
     },
     "output_type": "display_data"
    }
   ],
   "source": [
    "#Create a scatter plot coloured by various Sharpe Ratios with standard deviation on the x-axis and returns on the y-axis\n",
    "sim_frame.ret.head()\n",
    "plt.figure(figsize = (20,8))\n",
    "plt.scatter(sim_frame.stdev,sim_frame.ret,c=sim_frame.sharpe,cmap='RdYlBu')\n",
    "# plt.xlabel('Standard Deviation')\n",
    "# plt.ylabel('Returns')\n",
    "# plt.ylim(0,.003)\n",
    "# plt.xlim(0.0075,0.012)\n",
    "plt.scatter(sim_frame.stdev,sim_frame.ret,c=sim_frame.sharpe,cmap='RdYlBu')\n",
    "\n",
    "#Plot a red star to highlight position of the portfolio with highest Sharpe Ratio\n",
    "plt.scatter(max_sharpe[1],max_sharpe[0],marker=(5,1,0),color='r',s=600)\n",
    "\n",
    "#Plot a blue star to highlight position of the portfolio with minimum Variance\n",
    "plt.scatter(min_std[1],min_std[0],marker=(5,1,0),color='b',s=600)\n",
    "plt.show()"
   ]
  }
 ],
 "metadata": {
  "kernelspec": {
   "display_name": "Python 3",
   "language": "python",
   "name": "python3"
  },
  "language_info": {
   "codemirror_mode": {
    "name": "ipython",
    "version": 3
   },
   "file_extension": ".py",
   "mimetype": "text/x-python",
   "name": "python",
   "nbconvert_exporter": "python",
   "pygments_lexer": "ipython3",
   "version": "3.7.3"
  }
 },
 "nbformat": 4,
 "nbformat_minor": 2
}
